{
 "cells": [
  {
   "cell_type": "code",
   "execution_count": null,
   "id": "3d45f2ae",
   "metadata": {},
   "outputs": [],
   "source": [
    "#Project 4 Sentiment Analysis of Yelp reviews"
   ]
  },
  {
   "cell_type": "code",
   "execution_count": 1,
   "id": "56048f74",
   "metadata": {},
   "outputs": [
    {
     "name": "stderr",
     "output_type": "stream",
     "text": [
      "/Users/tylerlewis/opt/anaconda3/lib/python3.9/site-packages/scipy/__init__.py:146: UserWarning: A NumPy version >=1.16.5 and <1.23.0 is required for this version of SciPy (detected version 1.23.5\n",
      "  warnings.warn(f\"A NumPy version >={np_minversion} and <{np_maxversion}\"\n"
     ]
    }
   ],
   "source": [
    "import requests\n",
    "import json\n",
    "from textblob import TextBlob\n",
    "from textblob.sentiments import NaiveBayesAnalyzer\n",
    "from nltk.corpus import stopwords\n",
    "from wordcloud import WordCloud\n",
    "import matplotlib.pyplot as plt"
   ]
  },
  {
   "cell_type": "code",
   "execution_count": 4,
   "id": "8b15f450",
   "metadata": {},
   "outputs": [
    {
     "ename": "SyntaxError",
     "evalue": "invalid syntax (3983333583.py, line 50)",
     "output_type": "error",
     "traceback": [
      "\u001b[0;36m  Cell \u001b[0;32mIn[4], line 50\u001b[0;36m\u001b[0m\n\u001b[0;31m    business_id = <your-business-id>\u001b[0m\n\u001b[0m                  ^\u001b[0m\n\u001b[0;31mSyntaxError\u001b[0m\u001b[0;31m:\u001b[0m invalid syntax\n"
     ]
    }
   ],
   "source": [
    "\n",
    "\n",
    "# Set up Yelp Fusion API endpoint and headers\n",
    "url = 'https://api.yelp.com/v3/businesses/{business_id}/reviews'\n",
    "headers = {\n",
    "    'Authorization': 'Bearer <J8eYsAVQ2yRJzo7V0v8IyrJ7z_aICMNxuS0VNHvN8Ww3qN3gN0y9XUOz6zlC7EtwJz6UfFGb2vKmWYJek1aYZ5yD6F_P54pTTn1E7fU6oebU5AmvyQ8KgeW-pf5YHYx>',\n",
    "}\n",
    "\n",
    "# Set up stop words list from NLTK\n",
    "stop_words = set(stopwords.words('english'))\n",
    "\n",
    "# Function to clean reviews\n",
    "def clean_review(review):\n",
    "    # Remove punctuation using regular expressions\n",
    "    review = re.sub(r'[^\\w\\s]', '', review)\n",
    "\n",
    "    # Remove URLs using regular expressions\n",
    "    review = re.sub(r'http\\S+', '', review)\n",
    "\n",
    "    # Remove emojis using the emoji library\n",
    "    review = emoji.get_emoji_regexp().sub(u'', review)\n",
    "\n",
    "    # Convert to lowercase\n",
    "    review = review.lower()\n",
    "\n",
    "    # Tokenize the review using TextBlob\n",
    "    words = TextBlob(review).words\n",
    "\n",
    "    # Remove stop words using NLTK\n",
    "    words = [word for word in words if word not in stop_words]\n",
    "\n",
    "    # Join the remaining words back into a string\n",
    "    cleaned_review = ' '.join(words)\n",
    "\n",
    "    return cleaned_review\n",
    "\n",
    "\n",
    "\n",
    "# Function to perform sentiment analysis on reviews\n",
    "def analyze_review(review):\n",
    "    # Create TextBlob object\n",
    "    blob = TextBlob(review)\n",
    "\n",
    "    # Get polarity and subjectivity of the review\n",
    "    polarity = blob.sentiment.polarity\n",
    "    subjectivity = blob.sentiment.subjectivity\n",
    "\n",
    "    # Return polarity and subjectivity\n",
    "    return polarity, subjectivity\n",
    "\n",
    "# Get reviews from Yelp Fusion API\n",
    "business_id = <your-business-id>\n",
    "response = requests.get(url.format(business_id=business_id), headers=headers)\n",
    "reviews = json.loads(response.text)['reviews']\n",
    "\n",
    "# Clean and analyze reviews\n",
    "polarity_list = []\n",
    "for review in reviews:\n",
    "    cleaned_review = clean_review(review['text'])\n",
    "    polarity = analyze_review(cleaned_review)\n",
    "    polarity_list.append(polarity)\n",
    "\n",
    "\n"
   ]
  },
  {
   "cell_type": "code",
   "execution_count": null,
   "id": "9f9051b2",
   "metadata": {},
   "outputs": [],
   "source": []
  }
 ],
 "metadata": {
  "kernelspec": {
   "display_name": "Python 3 (ipykernel)",
   "language": "python",
   "name": "python3"
  },
  "language_info": {
   "codemirror_mode": {
    "name": "ipython",
    "version": 3
   },
   "file_extension": ".py",
   "mimetype": "text/x-python",
   "name": "python",
   "nbconvert_exporter": "python",
   "pygments_lexer": "ipython3",
   "version": "3.9.16"
  }
 },
 "nbformat": 4,
 "nbformat_minor": 5
}
